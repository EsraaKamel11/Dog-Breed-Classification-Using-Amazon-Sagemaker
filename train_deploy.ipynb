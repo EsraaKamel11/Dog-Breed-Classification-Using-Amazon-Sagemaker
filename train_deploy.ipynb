{
 "cells": [
  {
   "cell_type": "code",
   "execution_count": null,
   "id": "340a8f5c-32e1-4443-91d1-069fe71f2bea",
   "metadata": {},
   "outputs": [],
   "source": [
    "import os\n",
    "import boto3\n",
    "import sagemaker\n",
    "import logging\n",
    "from sagemaker.pytorch import PyTorch, PyTorchModel\n",
    "from sagemaker.tuner import IntegerParameter, CategoricalParameter, ContinuousParameter, HyperparameterTuner\n",
    "from sagemaker.debugger import (\n",
    "    Rule,\n",
    "    DebuggerHookConfig,\n",
    "    rule_configs,\n",
    "    ProfilerRule,\n",
    "    ProfilerConfig,\n",
    "    FrameworkProfile,\n",
    ")\n",
    "from smdebug.trials import create_trial\n",
    "from smdebug.core.modes import ModeKeys\n",
    "from glob import glob\n",
    "import numpy as np\n",
    "import requests\n",
    "import json\n",
    "from PIL import Image\n",
    "import matplotlib.pyplot as plt\n",
    "from mpl_toolkits.axes_grid1 import host_subplot"
   ]
  },
  {
   "cell_type": "markdown",
   "id": "710dd9b5-7749-475c-b4d8-8d2d791ef7ad",
   "metadata": {},
   "source": [
    "#### Configure Logging"
   ]
  },
  {
   "cell_type": "code",
   "execution_count": null,
   "id": "c3da91ec-62e3-4f3e-8c25-78f0593a15f1",
   "metadata": {},
   "outputs": [],
   "source": [
    "logging.basicConfig(level=logging.INFO, format=\"%(asctime)s - %(levelname)s - %(message)s\")\n",
    "logger = logging.getLogger(\"notebook\")"
   ]
  },
  {
   "cell_type": "markdown",
   "id": "9e54c6b8-76f5-4643-b45a-7c184609045d",
   "metadata": {},
   "source": [
    "#### Environment Variables and SageMaker Session Setup"
   ]
  },
  {
   "cell_type": "code",
   "execution_count": null,
   "id": "1d2bb652-cf89-4b3d-b391-2624fd3ee216",
   "metadata": {},
   "outputs": [],
   "source": [
    "# Environment Variables\n",
    "BUCKET = os.getenv(\"S3_BUCKET\", \"default-bucket-name\")\n",
    "ROLE = os.getenv(\"IAM_ROLE\", \"default-role\")\n",
    "DEFAULT_REGION = os.getenv(\"AWS_DEFAULT_REGION\", \"us-east-1\")"
   ]
  },
  {
   "cell_type": "code",
   "execution_count": null,
   "id": "9f53151d-7240-455e-8521-77c81d4c482b",
   "metadata": {},
   "outputs": [],
   "source": [
    "# SageMaker Session\n",
    "sagemaker_session = sagemaker.Session()\n",
    "boto3_session = boto3.Session(region_name=DEFAULT_REGION)\n",
    "logger.info(f\"Using S3 Bucket: {BUCKET}, IAM Role: {ROLE}, Region: {DEFAULT_REGION}\")"
   ]
  },
  {
   "cell_type": "markdown",
   "id": "7f74ee25-2ba5-4822-9e6d-1dd7b4108796",
   "metadata": {},
   "source": [
    "#### Step 1: Download and Prepare Dataset"
   ]
  },
  {
   "cell_type": "code",
   "execution_count": null,
   "id": "1c74eb97-d557-4eb2-b279-9e86f00ff7c1",
   "metadata": {},
   "outputs": [],
   "source": [
    "def download_and_prepare_data():\n",
    "    \"\"\"Download and upload the dataset to S3.\"\"\"\n",
    "    logger.info(\"Downloading and preparing dataset...\")\n",
    "    os.makedirs(\"data\", exist_ok=True)\n",
    "    if not os.path.exists(\"data/dogImages.zip\"):\n",
    "        !wget -O data/dogImages.zip https://s3-us-west-1.amazonaws.com/udacity-aind/dog-project/dogImages.zip\n",
    "    !unzip -o data/dogImages.zip -d data\n",
    "    s3_data_path = f\"s3://{BUCKET}/data/\"\n",
    "    !aws s3 sync data/dogImages/ {s3_data_path}\n",
    "    logger.info(f\"Data uploaded to {s3_data_path}\")\n",
    "    return s3_data_path\n",
    "\n",
    "s3_data_path = download_and_prepare_data()"
   ]
  },
  {
   "cell_type": "markdown",
   "id": "bacb0edd-2eac-4b8d-930f-d5e423790223",
   "metadata": {},
   "source": [
    "#### Step 2: Hyperparameter Tuning"
   ]
  },
  {
   "cell_type": "code",
   "execution_count": null,
   "id": "6ac944bb-e270-4b81-8316-89fcdc630182",
   "metadata": {},
   "outputs": [],
   "source": [
    "def hyperparameter_tuning(s3_data_path):\n",
    "    \"\"\"Perform hyperparameter tuning using SageMaker.\"\"\"\n",
    "    logger.info(\"Starting hyperparameter tuning...\")\n",
    "\n",
    "    hyperparameter_ranges = {\n",
    "        \"learning_rate\": ContinuousParameter(0.001, 0.1),\n",
    "        \"batch_size\": CategoricalParameter([32, 64, 128, 256]),\n",
    "    }\n",
    "\n",
    "    objective_metric_name = \"Validation Loss\"\n",
    "    metric_definitions = [\n",
    "        {\"Name\": \"Validation Loss\", \"Regex\": \"valid loss: ([0-9\\\\.]+), acc: [0-9\\\\.]+.*\"},\n",
    "    ]\n",
    "\n",
    "    estimator = PyTorch(\n",
    "        entry_point=\"hpo.py\",\n",
    "        source_dir=\"code\",\n",
    "        base_job_name=\"pytorch-dog-hpo\",\n",
    "        role=ROLE,\n",
    "        framework_version=\"1.9\",\n",
    "        instance_count=1,\n",
    "        instance_type=\"ml.m5.large\",\n",
    "        py_version=\"py38\",\n",
    "    )\n",
    "\n",
    "    tuner = HyperparameterTuner(\n",
    "        estimator,\n",
    "        objective_metric_name,\n",
    "        hyperparameter_ranges,\n",
    "        metric_definitions,\n",
    "        max_jobs=10,\n",
    "        max_parallel_jobs=2,\n",
    "        objective_type=\"Minimize\",\n",
    "    )\n",
    "\n",
    "    tuner.fit({\"training\": s3_data_path}, wait=True)\n",
    "    best_estimator = tuner.best_estimator()\n",
    "    logger.info(\"Hyperparameter tuning complete.\")\n",
    "    return best_estimator\n",
    "\n",
    "best_estimator = hyperparameter_tuning(s3_data_path)"
   ]
  },
  {
   "cell_type": "markdown",
   "id": "2b6560c5-cdf3-4c9c-a5ea-010fd5400459",
   "metadata": {},
   "source": [
    "#### Step 3: Model Training and Profiling"
   ]
  },
  {
   "cell_type": "code",
   "execution_count": null,
   "id": "c4f3b5e4-1cbb-44fe-a1b5-9630367904b4",
   "metadata": {},
   "outputs": [],
   "source": [
    "def model_training_and_profiling(s3_data_path, hyperparameters):\n",
    "    \"\"\"Train the model with profiling and debugging enabled.\"\"\"\n",
    "    logger.info(\"Starting model training and profiling...\")\n",
    "\n",
    "    rules = [\n",
    "        Rule.sagemaker(rule_configs.vanishing_gradient()),\n",
    "        ProfilerRule.sagemaker(rule_configs.ProfilerReport()),\n",
    "    ]\n",
    "\n",
    "    profiler_config = ProfilerConfig(\n",
    "        system_monitor_interval_millis=500, framework_profile_params=FrameworkProfile(num_steps=10)\n",
    "    )\n",
    "\n",
    "    estimator = PyTorch(\n",
    "        entry_point=\"train_model.py\",\n",
    "        source_dir=\"code\",\n",
    "        base_job_name=\"pytorch-dog-training\",\n",
    "        role=ROLE,\n",
    "        instance_count=1,\n",
    "        instance_type=\"ml.m5.xlarge\",\n",
    "        framework_version=\"1.9\",\n",
    "        py_version=\"py38\",\n",
    "        hyperparameters=hyperparameters,\n",
    "        output_path=f\"s3://{BUCKET}/output/\",\n",
    "        rules=rules,\n",
    "        profiler_config=profiler_config,\n",
    "    )\n",
    "\n",
    "    estimator.fit({\"training\": s3_data_path}, wait=True)\n",
    "    logger.info(\"Model training complete.\")\n",
    "    return estimator\n",
    "\n",
    "hyperparameters = best_estimator.hyperparameters()\n",
    "estimator = model_training_and_profiling(s3_data_path, hyperparameters)"
   ]
  },
  {
   "cell_type": "markdown",
   "id": "24a691b0-f430-4547-a8b8-63a8fc8977d0",
   "metadata": {},
   "source": [
    "#### Step 4: Model Deployment"
   ]
  },
  {
   "cell_type": "code",
   "execution_count": null,
   "id": "37d32fcc-caaf-48f7-b62a-103aa22f8da7",
   "metadata": {},
   "outputs": [],
   "source": [
    "def deploy_model(estimator):\n",
    "    \"\"\"Deploy the trained model to a SageMaker endpoint.\"\"\"\n",
    "    logger.info(\"Deploying the model...\")\n",
    "\n",
    "    class ImagePredictor(sagemaker.predictor.Predictor):\n",
    "        \"\"\"Custom Predictor for image classification.\"\"\"\n",
    "\n",
    "        def __init__(self, endpoint_name, sagemaker_session):\n",
    "            super().__init__(\n",
    "                endpoint_name,\n",
    "                sagemaker_session=sagemaker_session,\n",
    "                serializer=sagemaker.serializers.IdentitySerializer(\"image/jpeg\"),\n",
    "                deserializer=sagemaker.deserializers.JSONDeserializer(),\n",
    "            )\n",
    "\n",
    "    model = PyTorchModel(\n",
    "        entry_point=\"inference.py\",\n",
    "        source_dir=\"code\",\n",
    "        role=ROLE,\n",
    "        model_data=estimator.model_data,\n",
    "        framework_version=\"1.9\",\n",
    "        py_version=\"py38\",\n",
    "        predictor_cls=ImagePredictor,\n",
    "    )\n",
    "\n",
    "    predictor = model.deploy(initial_instance_count=1, instance_type=\"ml.t2.medium\")\n",
    "    logger.info(\"Model deployed.\")\n",
    "    return predictor"
   ]
  },
  {
   "cell_type": "code",
   "execution_count": null,
   "id": "ba3194a3-80ec-4ab7-a136-6fabf25ccb7a",
   "metadata": {},
   "outputs": [],
   "source": [
    "predictor = deploy_model(estimator)\n",
    "logger.info(f\"Endpoint deployed at: {predictor.endpoint_name}\")"
   ]
  },
  {
   "cell_type": "markdown",
   "id": "a2b9e703-192d-4f5c-a7e0-fee858f02d03",
   "metadata": {},
   "source": [
    "#### Additional: Interact with the Deployed Model"
   ]
  },
  {
   "cell_type": "code",
   "execution_count": null,
   "id": "cd02afc0-e390-4b32-b2ba-357677cd6711",
   "metadata": {},
   "outputs": [],
   "source": [
    "image_url = \"https://example.com/sample_image.jpg\"\n",
    "response = requests.get(image_url)\n",
    "image_bytes = response.content"
   ]
  },
  {
   "cell_type": "markdown",
   "id": "97bdd818-ca12-4ad9-926a-1cdd4f46d235",
   "metadata": {},
   "source": [
    "#### Clean Up Resources"
   ]
  },
  {
   "cell_type": "code",
   "execution_count": null,
   "id": "104b449e-b163-4605-96ab-c35ece321cec",
   "metadata": {},
   "outputs": [],
   "source": [
    "logger.info(\"Sending image to the endpoint for prediction...\")\n",
    "result = predictor.predict(image_bytes)\n",
    "logger.info(f\"Prediction result: {result}\")"
   ]
  },
  {
   "cell_type": "code",
   "execution_count": null,
   "id": "92660d4f-31bf-4076-beca-626d1e6a3b2c",
   "metadata": {},
   "outputs": [],
   "source": [
    "logger.info(\"Deleting the endpoint...\")\n",
    "predictor.delete_endpoint()\n",
    "logger.info(\"Endpoint deleted.\")"
   ]
  },
  {
   "cell_type": "code",
   "execution_count": null,
   "id": "fa7704a2-874e-4b89-8363-d9f0c2e4e506",
   "metadata": {},
   "outputs": [],
   "source": []
  }
 ],
 "metadata": {
  "kernelspec": {
   "display_name": "Python 3 (ipykernel)",
   "language": "python",
   "name": "python3"
  },
  "language_info": {
   "name": ""
  }
 },
 "nbformat": 4,
 "nbformat_minor": 5
}
